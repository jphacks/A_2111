{
  "nbformat": 4,
  "nbformat_minor": 0,
  "metadata": {
    "colab": {
      "name": "LFW.ipynb",
      "provenance": [],
      "collapsed_sections": []
    },
    "kernelspec": {
      "name": "python3",
      "display_name": "Python 3"
    },
    "language_info": {
      "name": "python"
    },
    "widgets": {
      "application/vnd.jupyter.widget-state+json": {
        "1ad9619598da48588f470dd21e886d6b": {
          "model_module": "@jupyter-widgets/controls",
          "model_name": "HBoxModel",
          "model_module_version": "1.5.0",
          "state": {
            "_view_name": "HBoxView",
            "_dom_classes": [],
            "_model_name": "HBoxModel",
            "_view_module": "@jupyter-widgets/controls",
            "_model_module_version": "1.5.0",
            "_view_count": null,
            "_view_module_version": "1.5.0",
            "box_style": "",
            "layout": "IPY_MODEL_49f7fe916187415fa1ad4fdbf0cc103e",
            "_model_module": "@jupyter-widgets/controls",
            "children": [
              "IPY_MODEL_ef7c8b93a4d54ab8be96bb08dbfb91b5",
              "IPY_MODEL_a047fa9549dd4dd79c533810898c2b24",
              "IPY_MODEL_76a151fe84c14a0b90912681939e8a5f"
            ]
          }
        },
        "49f7fe916187415fa1ad4fdbf0cc103e": {
          "model_module": "@jupyter-widgets/base",
          "model_name": "LayoutModel",
          "model_module_version": "1.2.0",
          "state": {
            "_view_name": "LayoutView",
            "grid_template_rows": null,
            "right": null,
            "justify_content": null,
            "_view_module": "@jupyter-widgets/base",
            "overflow": null,
            "_model_module_version": "1.2.0",
            "_view_count": null,
            "flex_flow": null,
            "width": null,
            "min_width": null,
            "border": null,
            "align_items": null,
            "bottom": null,
            "_model_module": "@jupyter-widgets/base",
            "top": null,
            "grid_column": null,
            "overflow_y": null,
            "overflow_x": null,
            "grid_auto_flow": null,
            "grid_area": null,
            "grid_template_columns": null,
            "flex": null,
            "_model_name": "LayoutModel",
            "justify_items": null,
            "grid_row": null,
            "max_height": null,
            "align_content": null,
            "visibility": null,
            "align_self": null,
            "height": null,
            "min_height": null,
            "padding": null,
            "grid_auto_rows": null,
            "grid_gap": null,
            "max_width": null,
            "order": null,
            "_view_module_version": "1.2.0",
            "grid_template_areas": null,
            "object_position": null,
            "object_fit": null,
            "grid_auto_columns": null,
            "margin": null,
            "display": null,
            "left": null
          }
        },
        "ef7c8b93a4d54ab8be96bb08dbfb91b5": {
          "model_module": "@jupyter-widgets/controls",
          "model_name": "HTMLModel",
          "model_module_version": "1.5.0",
          "state": {
            "_view_name": "HTMLView",
            "style": "IPY_MODEL_d41b52a865b14966b09687ae234e243f",
            "_dom_classes": [],
            "description": "",
            "_model_name": "HTMLModel",
            "placeholder": "​",
            "_view_module": "@jupyter-widgets/controls",
            "_model_module_version": "1.5.0",
            "value": "100%",
            "_view_count": null,
            "_view_module_version": "1.5.0",
            "description_tooltip": null,
            "_model_module": "@jupyter-widgets/controls",
            "layout": "IPY_MODEL_085027ce73c84806b19c0aab709d0955"
          }
        },
        "a047fa9549dd4dd79c533810898c2b24": {
          "model_module": "@jupyter-widgets/controls",
          "model_name": "FloatProgressModel",
          "model_module_version": "1.5.0",
          "state": {
            "_view_name": "ProgressView",
            "style": "IPY_MODEL_97ab09cea1cc49fda20675e57b773f1b",
            "_dom_classes": [],
            "description": "",
            "_model_name": "FloatProgressModel",
            "bar_style": "success",
            "max": 111898327,
            "_view_module": "@jupyter-widgets/controls",
            "_model_module_version": "1.5.0",
            "value": 111898327,
            "_view_count": null,
            "_view_module_version": "1.5.0",
            "orientation": "horizontal",
            "min": 0,
            "description_tooltip": null,
            "_model_module": "@jupyter-widgets/controls",
            "layout": "IPY_MODEL_171307d4901f4a3d8123e3a1d43d8144"
          }
        },
        "76a151fe84c14a0b90912681939e8a5f": {
          "model_module": "@jupyter-widgets/controls",
          "model_name": "HTMLModel",
          "model_module_version": "1.5.0",
          "state": {
            "_view_name": "HTMLView",
            "style": "IPY_MODEL_0beaa632bbc0476b81b262ca40aef0f4",
            "_dom_classes": [],
            "description": "",
            "_model_name": "HTMLModel",
            "placeholder": "​",
            "_view_module": "@jupyter-widgets/controls",
            "_model_module_version": "1.5.0",
            "value": " 107M/107M [00:00&lt;00:00, 154MB/s]",
            "_view_count": null,
            "_view_module_version": "1.5.0",
            "description_tooltip": null,
            "_model_module": "@jupyter-widgets/controls",
            "layout": "IPY_MODEL_bca03d0f5f0d4445b327baf0a8c5a898"
          }
        },
        "d41b52a865b14966b09687ae234e243f": {
          "model_module": "@jupyter-widgets/controls",
          "model_name": "DescriptionStyleModel",
          "model_module_version": "1.5.0",
          "state": {
            "_view_name": "StyleView",
            "_model_name": "DescriptionStyleModel",
            "description_width": "",
            "_view_module": "@jupyter-widgets/base",
            "_model_module_version": "1.5.0",
            "_view_count": null,
            "_view_module_version": "1.2.0",
            "_model_module": "@jupyter-widgets/controls"
          }
        },
        "085027ce73c84806b19c0aab709d0955": {
          "model_module": "@jupyter-widgets/base",
          "model_name": "LayoutModel",
          "model_module_version": "1.2.0",
          "state": {
            "_view_name": "LayoutView",
            "grid_template_rows": null,
            "right": null,
            "justify_content": null,
            "_view_module": "@jupyter-widgets/base",
            "overflow": null,
            "_model_module_version": "1.2.0",
            "_view_count": null,
            "flex_flow": null,
            "width": null,
            "min_width": null,
            "border": null,
            "align_items": null,
            "bottom": null,
            "_model_module": "@jupyter-widgets/base",
            "top": null,
            "grid_column": null,
            "overflow_y": null,
            "overflow_x": null,
            "grid_auto_flow": null,
            "grid_area": null,
            "grid_template_columns": null,
            "flex": null,
            "_model_name": "LayoutModel",
            "justify_items": null,
            "grid_row": null,
            "max_height": null,
            "align_content": null,
            "visibility": null,
            "align_self": null,
            "height": null,
            "min_height": null,
            "padding": null,
            "grid_auto_rows": null,
            "grid_gap": null,
            "max_width": null,
            "order": null,
            "_view_module_version": "1.2.0",
            "grid_template_areas": null,
            "object_position": null,
            "object_fit": null,
            "grid_auto_columns": null,
            "margin": null,
            "display": null,
            "left": null
          }
        },
        "97ab09cea1cc49fda20675e57b773f1b": {
          "model_module": "@jupyter-widgets/controls",
          "model_name": "ProgressStyleModel",
          "model_module_version": "1.5.0",
          "state": {
            "_view_name": "StyleView",
            "_model_name": "ProgressStyleModel",
            "description_width": "",
            "_view_module": "@jupyter-widgets/base",
            "_model_module_version": "1.5.0",
            "_view_count": null,
            "_view_module_version": "1.2.0",
            "bar_color": null,
            "_model_module": "@jupyter-widgets/controls"
          }
        },
        "171307d4901f4a3d8123e3a1d43d8144": {
          "model_module": "@jupyter-widgets/base",
          "model_name": "LayoutModel",
          "model_module_version": "1.2.0",
          "state": {
            "_view_name": "LayoutView",
            "grid_template_rows": null,
            "right": null,
            "justify_content": null,
            "_view_module": "@jupyter-widgets/base",
            "overflow": null,
            "_model_module_version": "1.2.0",
            "_view_count": null,
            "flex_flow": null,
            "width": null,
            "min_width": null,
            "border": null,
            "align_items": null,
            "bottom": null,
            "_model_module": "@jupyter-widgets/base",
            "top": null,
            "grid_column": null,
            "overflow_y": null,
            "overflow_x": null,
            "grid_auto_flow": null,
            "grid_area": null,
            "grid_template_columns": null,
            "flex": null,
            "_model_name": "LayoutModel",
            "justify_items": null,
            "grid_row": null,
            "max_height": null,
            "align_content": null,
            "visibility": null,
            "align_self": null,
            "height": null,
            "min_height": null,
            "padding": null,
            "grid_auto_rows": null,
            "grid_gap": null,
            "max_width": null,
            "order": null,
            "_view_module_version": "1.2.0",
            "grid_template_areas": null,
            "object_position": null,
            "object_fit": null,
            "grid_auto_columns": null,
            "margin": null,
            "display": null,
            "left": null
          }
        },
        "0beaa632bbc0476b81b262ca40aef0f4": {
          "model_module": "@jupyter-widgets/controls",
          "model_name": "DescriptionStyleModel",
          "model_module_version": "1.5.0",
          "state": {
            "_view_name": "StyleView",
            "_model_name": "DescriptionStyleModel",
            "description_width": "",
            "_view_module": "@jupyter-widgets/base",
            "_model_module_version": "1.5.0",
            "_view_count": null,
            "_view_module_version": "1.2.0",
            "_model_module": "@jupyter-widgets/controls"
          }
        },
        "bca03d0f5f0d4445b327baf0a8c5a898": {
          "model_module": "@jupyter-widgets/base",
          "model_name": "LayoutModel",
          "model_module_version": "1.2.0",
          "state": {
            "_view_name": "LayoutView",
            "grid_template_rows": null,
            "right": null,
            "justify_content": null,
            "_view_module": "@jupyter-widgets/base",
            "overflow": null,
            "_model_module_version": "1.2.0",
            "_view_count": null,
            "flex_flow": null,
            "width": null,
            "min_width": null,
            "border": null,
            "align_items": null,
            "bottom": null,
            "_model_module": "@jupyter-widgets/base",
            "top": null,
            "grid_column": null,
            "overflow_y": null,
            "overflow_x": null,
            "grid_auto_flow": null,
            "grid_area": null,
            "grid_template_columns": null,
            "flex": null,
            "_model_name": "LayoutModel",
            "justify_items": null,
            "grid_row": null,
            "max_height": null,
            "align_content": null,
            "visibility": null,
            "align_self": null,
            "height": null,
            "min_height": null,
            "padding": null,
            "grid_auto_rows": null,
            "grid_gap": null,
            "max_width": null,
            "order": null,
            "_view_module_version": "1.2.0",
            "grid_template_areas": null,
            "object_position": null,
            "object_fit": null,
            "grid_auto_columns": null,
            "margin": null,
            "display": null,
            "left": null
          }
        }
      }
    }
  },
  "cells": [
    {
      "cell_type": "code",
      "metadata": {
        "colab": {
          "base_uri": "https://localhost:8080/"
        },
        "id": "lbnQlR7D5xhW",
        "outputId": "667ad8d1-cc09-4b46-e98d-f5b5a0985016"
      },
      "source": [
        "!pip install facenet_pytorch"
      ],
      "execution_count": null,
      "outputs": [
        {
          "output_type": "stream",
          "name": "stdout",
          "text": [
            "Collecting facenet_pytorch\n",
            "  Downloading facenet_pytorch-2.5.2-py3-none-any.whl (1.9 MB)\n",
            "\u001b[?25l\r\u001b[K     |▏                               | 10 kB 22.6 MB/s eta 0:00:01\r\u001b[K     |▍                               | 20 kB 28.8 MB/s eta 0:00:01\r\u001b[K     |▌                               | 30 kB 31.7 MB/s eta 0:00:01\r\u001b[K     |▊                               | 40 kB 21.7 MB/s eta 0:00:01\r\u001b[K     |▉                               | 51 kB 17.0 MB/s eta 0:00:01\r\u001b[K     |█                               | 61 kB 13.1 MB/s eta 0:00:01\r\u001b[K     |█▏                              | 71 kB 13.5 MB/s eta 0:00:01\r\u001b[K     |█▍                              | 81 kB 14.5 MB/s eta 0:00:01\r\u001b[K     |█▋                              | 92 kB 14.8 MB/s eta 0:00:01\r\u001b[K     |█▊                              | 102 kB 11.3 MB/s eta 0:00:01\r\u001b[K     |██                              | 112 kB 11.3 MB/s eta 0:00:01\r\u001b[K     |██                              | 122 kB 11.3 MB/s eta 0:00:01\r\u001b[K     |██▎                             | 133 kB 11.3 MB/s eta 0:00:01\r\u001b[K     |██▍                             | 143 kB 11.3 MB/s eta 0:00:01\r\u001b[K     |██▋                             | 153 kB 11.3 MB/s eta 0:00:01\r\u001b[K     |██▉                             | 163 kB 11.3 MB/s eta 0:00:01\r\u001b[K     |███                             | 174 kB 11.3 MB/s eta 0:00:01\r\u001b[K     |███▏                            | 184 kB 11.3 MB/s eta 0:00:01\r\u001b[K     |███▎                            | 194 kB 11.3 MB/s eta 0:00:01\r\u001b[K     |███▌                            | 204 kB 11.3 MB/s eta 0:00:01\r\u001b[K     |███▋                            | 215 kB 11.3 MB/s eta 0:00:01\r\u001b[K     |███▉                            | 225 kB 11.3 MB/s eta 0:00:01\r\u001b[K     |████                            | 235 kB 11.3 MB/s eta 0:00:01\r\u001b[K     |████▏                           | 245 kB 11.3 MB/s eta 0:00:01\r\u001b[K     |████▍                           | 256 kB 11.3 MB/s eta 0:00:01\r\u001b[K     |████▌                           | 266 kB 11.3 MB/s eta 0:00:01\r\u001b[K     |████▊                           | 276 kB 11.3 MB/s eta 0:00:01\r\u001b[K     |████▉                           | 286 kB 11.3 MB/s eta 0:00:01\r\u001b[K     |█████                           | 296 kB 11.3 MB/s eta 0:00:01\r\u001b[K     |█████▏                          | 307 kB 11.3 MB/s eta 0:00:01\r\u001b[K     |█████▍                          | 317 kB 11.3 MB/s eta 0:00:01\r\u001b[K     |█████▋                          | 327 kB 11.3 MB/s eta 0:00:01\r\u001b[K     |█████▊                          | 337 kB 11.3 MB/s eta 0:00:01\r\u001b[K     |██████                          | 348 kB 11.3 MB/s eta 0:00:01\r\u001b[K     |██████                          | 358 kB 11.3 MB/s eta 0:00:01\r\u001b[K     |██████▎                         | 368 kB 11.3 MB/s eta 0:00:01\r\u001b[K     |██████▍                         | 378 kB 11.3 MB/s eta 0:00:01\r\u001b[K     |██████▋                         | 389 kB 11.3 MB/s eta 0:00:01\r\u001b[K     |██████▉                         | 399 kB 11.3 MB/s eta 0:00:01\r\u001b[K     |███████                         | 409 kB 11.3 MB/s eta 0:00:01\r\u001b[K     |███████▏                        | 419 kB 11.3 MB/s eta 0:00:01\r\u001b[K     |███████▎                        | 430 kB 11.3 MB/s eta 0:00:01\r\u001b[K     |███████▌                        | 440 kB 11.3 MB/s eta 0:00:01\r\u001b[K     |███████▋                        | 450 kB 11.3 MB/s eta 0:00:01\r\u001b[K     |███████▉                        | 460 kB 11.3 MB/s eta 0:00:01\r\u001b[K     |████████                        | 471 kB 11.3 MB/s eta 0:00:01\r\u001b[K     |████████▏                       | 481 kB 11.3 MB/s eta 0:00:01\r\u001b[K     |████████▍                       | 491 kB 11.3 MB/s eta 0:00:01\r\u001b[K     |████████▌                       | 501 kB 11.3 MB/s eta 0:00:01\r\u001b[K     |████████▊                       | 512 kB 11.3 MB/s eta 0:00:01\r\u001b[K     |████████▉                       | 522 kB 11.3 MB/s eta 0:00:01\r\u001b[K     |█████████                       | 532 kB 11.3 MB/s eta 0:00:01\r\u001b[K     |█████████▎                      | 542 kB 11.3 MB/s eta 0:00:01\r\u001b[K     |█████████▍                      | 552 kB 11.3 MB/s eta 0:00:01\r\u001b[K     |█████████▋                      | 563 kB 11.3 MB/s eta 0:00:01\r\u001b[K     |█████████▊                      | 573 kB 11.3 MB/s eta 0:00:01\r\u001b[K     |██████████                      | 583 kB 11.3 MB/s eta 0:00:01\r\u001b[K     |██████████                      | 593 kB 11.3 MB/s eta 0:00:01\r\u001b[K     |██████████▎                     | 604 kB 11.3 MB/s eta 0:00:01\r\u001b[K     |██████████▍                     | 614 kB 11.3 MB/s eta 0:00:01\r\u001b[K     |██████████▋                     | 624 kB 11.3 MB/s eta 0:00:01\r\u001b[K     |██████████▉                     | 634 kB 11.3 MB/s eta 0:00:01\r\u001b[K     |███████████                     | 645 kB 11.3 MB/s eta 0:00:01\r\u001b[K     |███████████▏                    | 655 kB 11.3 MB/s eta 0:00:01\r\u001b[K     |███████████▎                    | 665 kB 11.3 MB/s eta 0:00:01\r\u001b[K     |███████████▌                    | 675 kB 11.3 MB/s eta 0:00:01\r\u001b[K     |███████████▋                    | 686 kB 11.3 MB/s eta 0:00:01\r\u001b[K     |███████████▉                    | 696 kB 11.3 MB/s eta 0:00:01\r\u001b[K     |████████████                    | 706 kB 11.3 MB/s eta 0:00:01\r\u001b[K     |████████████▏                   | 716 kB 11.3 MB/s eta 0:00:01\r\u001b[K     |████████████▍                   | 727 kB 11.3 MB/s eta 0:00:01\r\u001b[K     |████████████▌                   | 737 kB 11.3 MB/s eta 0:00:01\r\u001b[K     |████████████▊                   | 747 kB 11.3 MB/s eta 0:00:01\r\u001b[K     |████████████▉                   | 757 kB 11.3 MB/s eta 0:00:01\r\u001b[K     |█████████████                   | 768 kB 11.3 MB/s eta 0:00:01\r\u001b[K     |█████████████▎                  | 778 kB 11.3 MB/s eta 0:00:01\r\u001b[K     |█████████████▍                  | 788 kB 11.3 MB/s eta 0:00:01\r\u001b[K     |█████████████▋                  | 798 kB 11.3 MB/s eta 0:00:01\r\u001b[K     |█████████████▊                  | 808 kB 11.3 MB/s eta 0:00:01\r\u001b[K     |██████████████                  | 819 kB 11.3 MB/s eta 0:00:01\r\u001b[K     |██████████████                  | 829 kB 11.3 MB/s eta 0:00:01\r\u001b[K     |██████████████▎                 | 839 kB 11.3 MB/s eta 0:00:01\r\u001b[K     |██████████████▌                 | 849 kB 11.3 MB/s eta 0:00:01\r\u001b[K     |██████████████▋                 | 860 kB 11.3 MB/s eta 0:00:01\r\u001b[K     |██████████████▉                 | 870 kB 11.3 MB/s eta 0:00:01\r\u001b[K     |███████████████                 | 880 kB 11.3 MB/s eta 0:00:01\r\u001b[K     |███████████████▏                | 890 kB 11.3 MB/s eta 0:00:01\r\u001b[K     |███████████████▎                | 901 kB 11.3 MB/s eta 0:00:01\r\u001b[K     |███████████████▌                | 911 kB 11.3 MB/s eta 0:00:01\r\u001b[K     |███████████████▋                | 921 kB 11.3 MB/s eta 0:00:01\r\u001b[K     |███████████████▉                | 931 kB 11.3 MB/s eta 0:00:01\r\u001b[K     |████████████████                | 942 kB 11.3 MB/s eta 0:00:01\r\u001b[K     |████████████████▏               | 952 kB 11.3 MB/s eta 0:00:01\r\u001b[K     |████████████████▍               | 962 kB 11.3 MB/s eta 0:00:01\r\u001b[K     |████████████████▌               | 972 kB 11.3 MB/s eta 0:00:01\r\u001b[K     |████████████████▊               | 983 kB 11.3 MB/s eta 0:00:01\r\u001b[K     |████████████████▉               | 993 kB 11.3 MB/s eta 0:00:01\r\u001b[K     |█████████████████               | 1.0 MB 11.3 MB/s eta 0:00:01\r\u001b[K     |█████████████████▎              | 1.0 MB 11.3 MB/s eta 0:00:01\r\u001b[K     |█████████████████▍              | 1.0 MB 11.3 MB/s eta 0:00:01\r\u001b[K     |█████████████████▋              | 1.0 MB 11.3 MB/s eta 0:00:01\r\u001b[K     |█████████████████▊              | 1.0 MB 11.3 MB/s eta 0:00:01\r\u001b[K     |██████████████████              | 1.1 MB 11.3 MB/s eta 0:00:01\r\u001b[K     |██████████████████              | 1.1 MB 11.3 MB/s eta 0:00:01\r\u001b[K     |██████████████████▎             | 1.1 MB 11.3 MB/s eta 0:00:01\r\u001b[K     |██████████████████▌             | 1.1 MB 11.3 MB/s eta 0:00:01\r\u001b[K     |██████████████████▋             | 1.1 MB 11.3 MB/s eta 0:00:01\r\u001b[K     |██████████████████▉             | 1.1 MB 11.3 MB/s eta 0:00:01\r\u001b[K     |███████████████████             | 1.1 MB 11.3 MB/s eta 0:00:01\r\u001b[K     |███████████████████▏            | 1.1 MB 11.3 MB/s eta 0:00:01\r\u001b[K     |███████████████████▎            | 1.1 MB 11.3 MB/s eta 0:00:01\r\u001b[K     |███████████████████▌            | 1.1 MB 11.3 MB/s eta 0:00:01\r\u001b[K     |███████████████████▋            | 1.2 MB 11.3 MB/s eta 0:00:01\r\u001b[K     |███████████████████▉            | 1.2 MB 11.3 MB/s eta 0:00:01\r\u001b[K     |████████████████████            | 1.2 MB 11.3 MB/s eta 0:00:01\r\u001b[K     |████████████████████▏           | 1.2 MB 11.3 MB/s eta 0:00:01\r\u001b[K     |████████████████████▍           | 1.2 MB 11.3 MB/s eta 0:00:01\r\u001b[K     |████████████████████▌           | 1.2 MB 11.3 MB/s eta 0:00:01\r\u001b[K     |████████████████████▊           | 1.2 MB 11.3 MB/s eta 0:00:01\r\u001b[K     |████████████████████▉           | 1.2 MB 11.3 MB/s eta 0:00:01\r\u001b[K     |█████████████████████           | 1.2 MB 11.3 MB/s eta 0:00:01\r\u001b[K     |█████████████████████▎          | 1.2 MB 11.3 MB/s eta 0:00:01\r\u001b[K     |█████████████████████▍          | 1.3 MB 11.3 MB/s eta 0:00:01\r\u001b[K     |█████████████████████▋          | 1.3 MB 11.3 MB/s eta 0:00:01\r\u001b[K     |█████████████████████▊          | 1.3 MB 11.3 MB/s eta 0:00:01\r\u001b[K     |██████████████████████          | 1.3 MB 11.3 MB/s eta 0:00:01\r\u001b[K     |██████████████████████          | 1.3 MB 11.3 MB/s eta 0:00:01\r\u001b[K     |██████████████████████▎         | 1.3 MB 11.3 MB/s eta 0:00:01\r\u001b[K     |██████████████████████▌         | 1.3 MB 11.3 MB/s eta 0:00:01\r\u001b[K     |██████████████████████▋         | 1.3 MB 11.3 MB/s eta 0:00:01\r\u001b[K     |██████████████████████▉         | 1.3 MB 11.3 MB/s eta 0:00:01\r\u001b[K     |███████████████████████         | 1.4 MB 11.3 MB/s eta 0:00:01\r\u001b[K     |███████████████████████▏        | 1.4 MB 11.3 MB/s eta 0:00:01\r\u001b[K     |███████████████████████▎        | 1.4 MB 11.3 MB/s eta 0:00:01\r\u001b[K     |███████████████████████▌        | 1.4 MB 11.3 MB/s eta 0:00:01\r\u001b[K     |███████████████████████▊        | 1.4 MB 11.3 MB/s eta 0:00:01\r\u001b[K     |███████████████████████▉        | 1.4 MB 11.3 MB/s eta 0:00:01\r\u001b[K     |████████████████████████        | 1.4 MB 11.3 MB/s eta 0:00:01\r\u001b[K     |████████████████████████▏       | 1.4 MB 11.3 MB/s eta 0:00:01\r\u001b[K     |████████████████████████▍       | 1.4 MB 11.3 MB/s eta 0:00:01\r\u001b[K     |████████████████████████▌       | 1.4 MB 11.3 MB/s eta 0:00:01\r\u001b[K     |████████████████████████▊       | 1.5 MB 11.3 MB/s eta 0:00:01\r\u001b[K     |████████████████████████▉       | 1.5 MB 11.3 MB/s eta 0:00:01\r\u001b[K     |█████████████████████████       | 1.5 MB 11.3 MB/s eta 0:00:01\r\u001b[K     |█████████████████████████▎      | 1.5 MB 11.3 MB/s eta 0:00:01\r\u001b[K     |█████████████████████████▍      | 1.5 MB 11.3 MB/s eta 0:00:01\r\u001b[K     |█████████████████████████▋      | 1.5 MB 11.3 MB/s eta 0:00:01\r\u001b[K     |█████████████████████████▊      | 1.5 MB 11.3 MB/s eta 0:00:01\r\u001b[K     |██████████████████████████      | 1.5 MB 11.3 MB/s eta 0:00:01\r\u001b[K     |██████████████████████████      | 1.5 MB 11.3 MB/s eta 0:00:01\r\u001b[K     |██████████████████████████▎     | 1.5 MB 11.3 MB/s eta 0:00:01\r\u001b[K     |██████████████████████████▌     | 1.6 MB 11.3 MB/s eta 0:00:01\r\u001b[K     |██████████████████████████▋     | 1.6 MB 11.3 MB/s eta 0:00:01\r\u001b[K     |██████████████████████████▉     | 1.6 MB 11.3 MB/s eta 0:00:01\r\u001b[K     |███████████████████████████     | 1.6 MB 11.3 MB/s eta 0:00:01\r\u001b[K     |███████████████████████████▏    | 1.6 MB 11.3 MB/s eta 0:00:01\r\u001b[K     |███████████████████████████▎    | 1.6 MB 11.3 MB/s eta 0:00:01\r\u001b[K     |███████████████████████████▌    | 1.6 MB 11.3 MB/s eta 0:00:01\r\u001b[K     |███████████████████████████▊    | 1.6 MB 11.3 MB/s eta 0:00:01\r\u001b[K     |███████████████████████████▉    | 1.6 MB 11.3 MB/s eta 0:00:01\r\u001b[K     |████████████████████████████    | 1.6 MB 11.3 MB/s eta 0:00:01\r\u001b[K     |████████████████████████████▏   | 1.7 MB 11.3 MB/s eta 0:00:01\r\u001b[K     |████████████████████████████▍   | 1.7 MB 11.3 MB/s eta 0:00:01\r\u001b[K     |████████████████████████████▌   | 1.7 MB 11.3 MB/s eta 0:00:01\r\u001b[K     |████████████████████████████▊   | 1.7 MB 11.3 MB/s eta 0:00:01\r\u001b[K     |█████████████████████████████   | 1.7 MB 11.3 MB/s eta 0:00:01\r\u001b[K     |█████████████████████████████   | 1.7 MB 11.3 MB/s eta 0:00:01\r\u001b[K     |█████████████████████████████▎  | 1.7 MB 11.3 MB/s eta 0:00:01\r\u001b[K     |█████████████████████████████▍  | 1.7 MB 11.3 MB/s eta 0:00:01\r\u001b[K     |█████████████████████████████▋  | 1.7 MB 11.3 MB/s eta 0:00:01\r\u001b[K     |█████████████████████████████▊  | 1.8 MB 11.3 MB/s eta 0:00:01\r\u001b[K     |██████████████████████████████  | 1.8 MB 11.3 MB/s eta 0:00:01\r\u001b[K     |██████████████████████████████  | 1.8 MB 11.3 MB/s eta 0:00:01\r\u001b[K     |██████████████████████████████▎ | 1.8 MB 11.3 MB/s eta 0:00:01\r\u001b[K     |██████████████████████████████▌ | 1.8 MB 11.3 MB/s eta 0:00:01\r\u001b[K     |██████████████████████████████▋ | 1.8 MB 11.3 MB/s eta 0:00:01\r\u001b[K     |██████████████████████████████▉ | 1.8 MB 11.3 MB/s eta 0:00:01\r\u001b[K     |███████████████████████████████ | 1.8 MB 11.3 MB/s eta 0:00:01\r\u001b[K     |███████████████████████████████▏| 1.8 MB 11.3 MB/s eta 0:00:01\r\u001b[K     |███████████████████████████████▎| 1.8 MB 11.3 MB/s eta 0:00:01\r\u001b[K     |███████████████████████████████▌| 1.9 MB 11.3 MB/s eta 0:00:01\r\u001b[K     |███████████████████████████████▊| 1.9 MB 11.3 MB/s eta 0:00:01\r\u001b[K     |███████████████████████████████▉| 1.9 MB 11.3 MB/s eta 0:00:01\r\u001b[K     |████████████████████████████████| 1.9 MB 11.3 MB/s \n",
            "\u001b[?25hRequirement already satisfied: torchvision in /usr/local/lib/python3.7/dist-packages (from facenet_pytorch) (0.10.0+cu111)\n",
            "Requirement already satisfied: pillow in /usr/local/lib/python3.7/dist-packages (from facenet_pytorch) (7.1.2)\n",
            "Requirement already satisfied: numpy in /usr/local/lib/python3.7/dist-packages (from facenet_pytorch) (1.19.5)\n",
            "Requirement already satisfied: requests in /usr/local/lib/python3.7/dist-packages (from facenet_pytorch) (2.23.0)\n",
            "Requirement already satisfied: idna<3,>=2.5 in /usr/local/lib/python3.7/dist-packages (from requests->facenet_pytorch) (2.10)\n",
            "Requirement already satisfied: certifi>=2017.4.17 in /usr/local/lib/python3.7/dist-packages (from requests->facenet_pytorch) (2021.10.8)\n",
            "Requirement already satisfied: urllib3!=1.25.0,!=1.25.1,<1.26,>=1.21.1 in /usr/local/lib/python3.7/dist-packages (from requests->facenet_pytorch) (1.24.3)\n",
            "Requirement already satisfied: chardet<4,>=3.0.2 in /usr/local/lib/python3.7/dist-packages (from requests->facenet_pytorch) (3.0.4)\n",
            "Requirement already satisfied: torch==1.9.0 in /usr/local/lib/python3.7/dist-packages (from torchvision->facenet_pytorch) (1.9.0+cu111)\n",
            "Requirement already satisfied: typing-extensions in /usr/local/lib/python3.7/dist-packages (from torch==1.9.0->torchvision->facenet_pytorch) (3.10.0.2)\n",
            "Installing collected packages: facenet-pytorch\n",
            "Successfully installed facenet-pytorch-2.5.2\n"
          ]
        }
      ]
    },
    {
      "cell_type": "code",
      "metadata": {
        "id": "hEAPaZIF49lt"
      },
      "source": [
        "from facenet_pytorch import MTCNN, InceptionResnetV1\n",
        "from PIL import Image\n",
        "import numpy as np"
      ],
      "execution_count": null,
      "outputs": []
    },
    {
      "cell_type": "code",
      "metadata": {
        "id": "UblqxvJEDlsX"
      },
      "source": [
        "import torchvision"
      ],
      "execution_count": null,
      "outputs": []
    },
    {
      "cell_type": "code",
      "metadata": {
        "colab": {
          "base_uri": "https://localhost:8080/",
          "height": 49,
          "referenced_widgets": [
            "1ad9619598da48588f470dd21e886d6b",
            "49f7fe916187415fa1ad4fdbf0cc103e",
            "ef7c8b93a4d54ab8be96bb08dbfb91b5",
            "a047fa9549dd4dd79c533810898c2b24",
            "76a151fe84c14a0b90912681939e8a5f",
            "d41b52a865b14966b09687ae234e243f",
            "085027ce73c84806b19c0aab709d0955",
            "97ab09cea1cc49fda20675e57b773f1b",
            "171307d4901f4a3d8123e3a1d43d8144",
            "0beaa632bbc0476b81b262ca40aef0f4",
            "bca03d0f5f0d4445b327baf0a8c5a898"
          ]
        },
        "id": "icrGfwPJ6Tcf",
        "outputId": "0746a86d-4b07-4d42-8dba-9ccabcdc8a62"
      },
      "source": [
        "mtcnn = MTCNN()\n",
        "resnet = InceptionResnetV1(pretrained='vggface2').eval()"
      ],
      "execution_count": null,
      "outputs": [
        {
          "output_type": "display_data",
          "data": {
            "application/vnd.jupyter.widget-view+json": {
              "model_id": "1ad9619598da48588f470dd21e886d6b",
              "version_minor": 0,
              "version_major": 2
            },
            "text/plain": [
              "  0%|          | 0.00/107M [00:00<?, ?B/s]"
            ]
          },
          "metadata": {}
        }
      ]
    },
    {
      "cell_type": "code",
      "metadata": {
        "id": "XdNZQ1c06EY8"
      },
      "source": [
        "def get_vec(path):\n",
        "    img = Image.open(path)\n",
        "    img_cropped = mtcnn(img)\n",
        "    feature_vector = resnet(img_cropped.unsqueeze(0))\n",
        "    feature_vector_np = feature_vector.squeeze().to('cpu').detach().numpy().copy()\n",
        "    return feature_vector_np\n",
        "def cosine_similarity(a, b):\n",
        "    return np.dot(a, b) / (np.linalg.norm(a) * np.linalg.norm(b))"
      ],
      "execution_count": null,
      "outputs": []
    },
    {
      "cell_type": "code",
      "metadata": {
        "id": "I9ylzs-I7fo6"
      },
      "source": [
        "Image.open(\"a.png\").convert(\"RGB\").save(\"a.jpg\")"
      ],
      "execution_count": null,
      "outputs": []
    },
    {
      "cell_type": "code",
      "metadata": {
        "id": "TuZV1TaF77ld"
      },
      "source": [
        "get_vec(\"a.jpg\")"
      ],
      "execution_count": null,
      "outputs": []
    },
    {
      "cell_type": "code",
      "metadata": {
        "colab": {
          "base_uri": "https://localhost:8080/"
        },
        "id": "VIA3mkN06c9F",
        "outputId": "a6358346-55bb-476d-f242-1659eb53f2b1"
      },
      "source": [
        "cosine_similarity(get_vec(\"images/a.jpg\"), get_vec(\"images/b.jpg\"))"
      ],
      "execution_count": null,
      "outputs": [
        {
          "output_type": "execute_result",
          "data": {
            "text/plain": [
              "0.91011614"
            ]
          },
          "metadata": {},
          "execution_count": 17
        }
      ]
    },
    {
      "cell_type": "code",
      "metadata": {
        "colab": {
          "base_uri": "https://localhost:8080/"
        },
        "id": "lcUp1OdzKP6R",
        "outputId": "537322c1-0a2b-48d1-9079-37c8f6463322"
      },
      "source": [
        "dummy_input = torch.tensor(np.array(Image.open(\"a.jpg\")))\n",
        "dummy_input2 = mtcnn(dummy_input).unsqueeze(0)\n",
        "print(dummy_input2.shape)"
      ],
      "execution_count": null,
      "outputs": [
        {
          "output_type": "stream",
          "name": "stdout",
          "text": [
            "torch.Size([1, 3, 160, 160])\n"
          ]
        }
      ]
    },
    {
      "cell_type": "code",
      "metadata": {
        "colab": {
          "base_uri": "https://localhost:8080/"
        },
        "id": "clZXWodB_2_g",
        "outputId": "a1c34816-5508-4ff8-b298-0a8e45bfd3b6"
      },
      "source": [
        "type(mtcnn(dummy_input)),type(dummy_input),type(mtcnn)"
      ],
      "execution_count": null,
      "outputs": [
        {
          "output_type": "execute_result",
          "data": {
            "text/plain": [
              "(torch.Tensor, torch.Tensor, facenet_pytorch.models.mtcnn.MTCNN)"
            ]
          },
          "metadata": {},
          "execution_count": 85
        }
      ]
    },
    {
      "cell_type": "code",
      "metadata": {
        "id": "EEJY9YG1DCwv"
      },
      "source": [
        "torch.onnx.export(resnet, dummy_input2, 'model.onnx')"
      ],
      "execution_count": null,
      "outputs": []
    }
  ]
}